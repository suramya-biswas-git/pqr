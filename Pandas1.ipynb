{
 "cells": [
  {
   "cell_type": "code",
   "execution_count": 4,
   "id": "ae07f9b2-2236-49cc-afed-b50084312157",
   "metadata": {},
   "outputs": [
    {
     "name": "stdout",
     "output_type": "stream",
     "text": [
      "Ten       10\n",
      "Twenty    20\n",
      "Thirty    30\n",
      "Forty     40\n",
      "Fifty     50\n",
      "Name: My Demo Data, dtype: int32\n"
     ]
    }
   ],
   "source": [
    "import pandas as pd\n",
    "import numpy as np\n",
    "\n",
    "mydata=np.array([10,20,30,40,50])\n",
     "print('Hello Hi')"
    "mylabel=np.array(['Ten','Twenty','Thirty','Forty','Fifty'])\n",
    "myseries=pd.Series(mydata,index=mylabel,name='My Demo Data')\n",
    "print(myseries)\n"
   ]
  },
  {
   "cell_type": "code",
   "execution_count": 6,
   "id": "42f43065-bff9-49a6-91bf-02f7c3b908c6",
   "metadata": {},
   "outputs": [
    {
     "name": "stdout",
     "output_type": "stream",
     "text": [
      "Lina    56.75\n",
      "Rina    93.00\n",
      "Tina    67.50\n",
      "Mina    82.75\n",
      "Bina    23.25\n",
      "Nina    45.75\n",
      "Name: Student Results, dtype: float64\n"
     ]
    }
   ],
   "source": [
    "import pandas as pd\n",
    "import numpy as np\n",
    "\n",
    "student_marks=np.array([56.75,93,67.5,82.75,23.25,45.75])\n",
    "student_name=np.array(['Lina','Rina','Tina','Mina','Bina','Nina'])\n",
    "result=pd.Series(student_marks,index=student_name, name='Student Results')\n",
    "print(result)"
   ]
  },
  {
   "cell_type": "code",
   "execution_count": 10,
   "id": "820098ba-25b5-4e9f-ab9d-ba1b34750b77",
   "metadata": {},
   "outputs": [
    {
     "name": "stdout",
     "output_type": "stream",
     "text": [
      "   student_marks student_name student_grade\n",
      "0          56.75         Lina             P\n",
      "1          93.00         Rina             E\n",
      "2          67.50         Tina             G\n",
      "3          82.75         Mina             E\n",
      "4          23.25         Bina             F\n",
      "5          45.75         Nina             P\n"
     ]
    }
   ],
   "source": [
    "import pandas as pd\n",
    "import numpy as np\n",
    "student_data={\n",
    "                'student_marks':np.array([56.75,93,67.5,82.75,23.25,45.75]),\n",
    "                'student_name':np.array(['Lina','Rina','Tina','Mina','Bina','Nina']),\n",
    "                'student_grade':np.array(['P','E','G','E','F','P'])\n",
    "             }\n",
    "result=pd.DataFrame(student_data)\n",
    "print(result)"
   ]
  },
  {
   "cell_type": "code",
   "execution_count": 14,
   "id": "3dd06d25-b3cd-4d37-8c7d-8a4daa1b1e60",
   "metadata": {},
   "outputs": [
    {
     "name": "stdout",
     "output_type": "stream",
     "text": [
      "   student_marks student_name student_grade\n",
      "0          56.75         Lina             P\n",
      "1          93.00         Rina             E\n",
      "2          67.50         Tina             G\n",
      "3          82.75         Mina             P\n",
      "4          23.25         Bina             F\n",
      "5          45.75         Nina             P\n",
      "After adding new column.......\n",
      "   student_marks student_name student_grade  roll batch\n",
      "0          56.75         Lina             P   101  C601\n",
      "1          93.00         Rina             E   102  C603\n",
      "2          67.50         Tina             G   103  C701\n",
      "3          82.75         Mina             P   104  C201\n",
      "4          23.25         Bina             F   105  C809\n",
      "5          45.75         Nina             P   106  C601\n",
      "Display 1st record only.......\n",
      "student_marks    56.75\n",
      "student_name      Lina\n",
      "student_grade        P\n",
      "roll               101\n",
      "batch             C601\n",
      "Name: 0, dtype: object\n",
      "Display 2nd record only.......\n",
      "student_marks    93.0\n",
      "student_name     Rina\n",
      "student_grade       E\n",
      "roll              102\n",
      "batch            C603\n",
      "Name: 1, dtype: object\n",
      "Display student's name only.....\n",
      "0    Lina\n",
      "1    Rina\n",
      "2    Tina\n",
      "3    Mina\n",
      "4    Bina\n",
      "5    Nina\n",
      "Name: student_name, dtype: object\n"
     ]
    }
   ],
   "source": [
    "import pandas as pd\n",
    "import numpy as np\n",
    "student_data={\n",
    "                             'student_marks':np.array([56.75,93,67.5,82.75,23.25,45.75]),\n",
    "                             'student_name':np.array(['Lina','Rina','Tina','Mina','Bina','Nina']),\n",
    "                             'student_grade':np.array(['P','E','G','P','F','P'])\n",
    "            }\n",
    "result=pd.DataFrame(student_data)\n",
    "print(result)\n",
    "print('After adding new column.......')\n",
    "result['roll']=np.array([101,102,103,104,105,106])\n",
    "result['batch']=np.array(['C601','C603','C701','C201','C809','C601'])\n",
    "print(result)\n",
    "print('Display 1st record only.......')\n",
    "print(result.loc[0])\n",
    "print('Display 2nd record only.......')\n",
    "print(result.loc[1])\n",
    "print(\"Display student's name only.....\")\n",
    "print(result['student_name'])"
   ]
  },
  {
   "cell_type": "code",
   "execution_count": 17,
   "id": "90b657ec-13cd-4069-afad-b036215e4704",
   "metadata": {},
   "outputs": [
    {
     "name": "stdout",
     "output_type": "stream",
     "text": [
      "   student_marks student_name student_grade\n",
      "0          56.75         Lina             P\n",
      "1          93.00         Rina             E\n",
      "2          67.50         Tina             G\n",
      "3          82.75         Mina             P\n",
      "4          23.25         Bina             F\n",
      "5          45.75         Nina             P\n",
      "After adding new column.......\n",
      "   student-roll  student_marks student_name student_grade batch\n",
      "0           101          56.75         Lina             P  C601\n",
      "1           102          93.00         Rina             E  C603\n",
      "2           103          67.50         Tina             G  C701\n",
      "3           104          82.75         Mina             P  C201\n",
      "4           105          23.25         Bina             F  C809\n",
      "5           106          45.75         Nina             P  C601\n"
     ]
    }
   ],
   "source": [
    "import pandas as pd\n",
    "import numpy as np\n",
    "student_data={\n",
    "                             'student_marks':np.array([56.75,93,67.5,82.75,23.25,45.75]),\n",
    "                             'student_name':np.array(['Lina','Rina','Tina','Mina','Bina','Nina']),\n",
    "                             'student_grade':np.array(['P','E','G','P','F','P'])\n",
    "                         }\n",
    "result=pd.DataFrame(student_data)\n",
    "print(result)\n",
    "print('After adding new column.......')\n",
    "roll=np.array([101,102,103,104,105,106])\n",
    "roll=np.array([101,102,103,104,105,106])\n",
    "result.insert(0,'student-roll',roll)\n",
    "result['batch']=np.array(['C601','C603','C701','C201','C809','C601'])\n",
    "print(result)\n",
    "\n"
   ]
  },
  {
   "cell_type": "code",
   "execution_count": 19,
   "id": "415e9aed-b5ed-4165-a121-f85a91efc201",
   "metadata": {},
   "outputs": [
    {
     "name": "stdout",
     "output_type": "stream",
     "text": [
      "   student_marks student_name student_grade\n",
      "0          56.75         Lina             P\n",
      "1          93.00         Rina             E\n",
      "2          67.50         Tina             G\n",
      "3          82.75         Mina             P\n",
      "4          23.25         Bina             F\n",
      "5          45.75         Nina             P\n",
      "After adding new row/record.......\n",
      "   student_marks student_name student_grade\n",
      "0          56.75         Lina             P\n",
      "1          93.00         Rina             E\n",
      "2          67.50         Tina             G\n",
      "3          82.75         Mina             P\n",
      "4          23.25         Bina             F\n",
      "5          45.75         Nina             P\n",
      "6          75.00         Jina             G\n"
     ]
    }
   ],
   "source": [
    "import pandas as pd\n",
    "import numpy as np\n",
    "student_data={\n",
    "                             'student_marks':np.array([56.75,93,67.5,82.75,23.25,45.75]),\n",
    "                             'student_name':np.array(['Lina','Rina','Tina','Mina','Bina','Nina']),\n",
    "                             'student_grade':np.array(['P','E','G','P','F','P'])\n",
    "                         }\n",
    "result=pd.DataFrame(student_data)\n",
    "print(result)\n",
    "print('After adding new row/record.......')\n",
    "new_student=pd.DataFrame([{'student_marks':75.0,'student_name':'Jina','student_grade':'G'}])\n",
    "result=pd.concat([result,new_student],ignore_index=True)\n",
    "print(result)"
   ]
  },
  {
   "cell_type": "code",
   "execution_count": 23,
   "id": "6d0fc131-5be0-4157-8dee-309d9a028340",
   "metadata": {},
   "outputs": [
    {
     "name": "stdout",
     "output_type": "stream",
     "text": [
      "   student_marks student_name student_grade\n",
      "0          56.75         Lina             P\n",
      "1          93.00         Rina             E\n",
      "2          67.50         Tina             G\n",
      "3          82.75         Mina             P\n",
      "4          23.25         Bina             F\n",
      "5          45.75         Nina             P\n",
      "After adding new row/record.......\n",
      "   student_marks student_name student_grade\n",
      "0          56.75         Lina             P\n",
      "1          93.00         Rina             E\n",
      "2          67.50         Tina             G\n",
      "3          82.75         Mina             P\n",
      "4          23.25         Bina             F\n",
      "5          45.75         Nina             P\n",
      "6          75.00         Jina             G\n",
      "After adding new row/record in row no 2.......\n",
      "   student_marks student_name student_grade\n",
      "0          56.75         Lina             P\n",
      "1          93.00         Rina             E\n",
      "2          60.00         Dina             G\n",
      "3          67.50         Tina             G\n",
      "4          82.75         Mina             P\n",
      "5          23.25         Bina             F\n",
      "6          45.75         Nina             P\n",
      "7          75.00         Jina             G\n"
     ]
    }
   ],
   "source": [
    "import pandas as pd\n",
    "import numpy as np\n",
    "student_data={\n",
    "                             'student_marks':np.array([56.75,93,67.5,82.75,23.25,45.75]),\n",
    "                             'student_name':np.array(['Lina','Rina','Tina','Mina','Bina','Nina']),\n",
    "                             'student_grade':np.array(['P','E','G','P','F','P'])\n",
    "                         }\n",
    "result=pd.DataFrame(student_data)\n",
    "print(result)\n",
    "print('After adding new row/record.......')\n",
    "new_student=pd.DataFrame([{'student_marks':75.0,'student_name':'Jina','student_grade':'G'}])\n",
    "result=pd.concat([result,new_student],ignore_index=True)\n",
    "print(result)\n",
    "print('After adding new row/record in row no 2.......')\n",
    "new_student2={'student_marks':60.0,'student_name':'Dina','student_grade':'G'}\n",
    "new_index=1.5\n",
    "result.loc[new_index]=new_student2\n",
    "result=result.sort_index().reset_index(drop=True)\n",
    "print(result)"
   ]
  },
  {
   "cell_type": "code",
   "execution_count": 28,
   "id": "f8889a08-f03f-45c2-8252-3a9a7b452204",
   "metadata": {},
   "outputs": [
    {
     "name": "stdout",
     "output_type": "stream",
     "text": [
      "   student_marks student_name student_grade\n",
      "0          56.75         Lina             P\n",
      "1          93.00         Rina             E\n",
      "2          67.50         Tina             G\n",
      "3          82.75         Mina             P\n",
      "4          23.25         Bina             F\n",
      "5          45.75         Nina             P\n",
      "After updating column names.......\n",
      "   marks  name grade\n",
      "0  56.75  Lina     P\n",
      "1  93.00  Rina     E\n",
      "2  67.50  Tina     G\n",
      "3  82.75  Mina     P\n",
      "4  23.25  Bina     F\n",
      "5  45.75  Nina     P\n",
      "After updating Row number 3.......\n",
      "   marks  name grade\n",
      "0  56.75  Lina     P\n",
      "1  93.00  Rina     E\n",
      "2  90.00  Tina     E\n",
      "3  82.75  Mina     P\n",
      "4  23.25  Bina     F\n",
      "5  45.75  Nina     P\n",
      "After updating Row number 5.......\n",
      "   marks  name grade\n",
      "0  56.75  Lina     P\n",
      "1  93.00  Rina     E\n",
      "2  90.00  Tina     E\n",
      "3  82.75  Mina     P\n",
      "4  53.00  Bina     P\n",
      "5  45.75  Nina     P\n"
     ]
    }
   ],
   "source": [
    "import pandas as pd\n",
    "import numpy as np\n",
    "student_data={\n",
    "                             'student_marks':np.array([56.75,93,67.5,82.75,23.25,45.75]),\n",
    "                             'student_name':np.array(['Lina','Rina','Tina','Mina','Bina','Nina']),\n",
    "                             'student_grade':np.array(['P','E','G','P','F','P'])\n",
    "                         }\n",
    "result=pd.DataFrame(student_data)\n",
    "print(result)\n",
    "print('After updating column names.......')\n",
    "result=result.rename(columns={'student_marks':'marks','student_name':'name','student_grade':'grade'})\n",
    "print(result)\n",
    "print('After updating Row number 3.......')\n",
    "result.loc[2]=[90.00,'Tina','E']\n",
    "print(result)\n",
    "print('After updating Row number 5.......')\n",
    "result.loc[4,['marks']]=[53.0]\n",
    "result.loc[4,['grade']]=['P']\n",
    "print(result)\n"
   ]
  },
  {
   "cell_type": "code",
   "execution_count": null,
   "id": "ed6ff968-48dc-4775-92f8-27387794606f",
   "metadata": {},
   "outputs": [],
   "source": []
  }
 ],
 "metadata": {
  "kernelspec": {
   "display_name": "Python 3 (ipykernel)",
   "language": "python",
   "name": "python3"
  },
  "language_info": {
   "codemirror_mode": {
    "name": "ipython",
    "version": 3
   },
   "file_extension": ".py",
   "mimetype": "text/x-python",
   "name": "python",
   "nbconvert_exporter": "python",
   "pygments_lexer": "ipython3",
   "version": "3.12.1"
  }
 },
 "nbformat": 4,
 "nbformat_minor": 5
}

Hi People
